{
 "cells": [
  {
   "cell_type": "markdown",
   "metadata": {},
   "source": [
    "# Effects of Pole Location in Step-Response"
   ]
  },
  {
   "cell_type": "markdown",
   "metadata": {},
   "source": [
    "## Python Control System Toolbox\n",
    "If you are running this code at your local computer where the python control system toolbox is already installed skip or uncomment the following line."
   ]
  },
  {
   "cell_type": "code",
   "execution_count": 1,
   "metadata": {},
   "outputs": [
    {
     "name": "stdout",
     "output_type": "stream",
     "text": [
      "Defaulting to user installation because normal site-packages is not writeable\n",
      "Requirement already satisfied: control in /var/mobile/Containers/Data/Application/3AFD9996-CF72-434C-B9F8-91A4B71F4F0F/Library/lib/python3.11/site-packages (0.9.2)\n",
      "Requirement already satisfied: numpy in /private/var/containers/Bundle/Application/D46A5347-8B1F-415F-8567-ACE86179AF97/Carnets-sci.app/Library/lib/python3.11/site-packages (from control) (1.24.0.dev0+1021.g61098c4a4)\n",
      "Requirement already satisfied: scipy in /private/var/containers/Bundle/Application/D46A5347-8B1F-415F-8567-ACE86179AF97/Carnets-sci.app/Library/lib/python3.11/site-packages (from control) (1.9.3)\n",
      "Requirement already satisfied: matplotlib in /private/var/containers/Bundle/Application/D46A5347-8B1F-415F-8567-ACE86179AF97/Carnets-sci.app/Library/lib/python3.11/site-packages (from control) (3.7.0.dev641+g768ff8450)\n",
      "Requirement already satisfied: contourpy>=1.0.1 in /private/var/containers/Bundle/Application/D46A5347-8B1F-415F-8567-ACE86179AF97/Carnets-sci.app/Library/lib/python3.11/site-packages (from matplotlib->control) (1.0.5)\n",
      "Requirement already satisfied: cycler>=0.10 in /private/var/containers/Bundle/Application/D46A5347-8B1F-415F-8567-ACE86179AF97/Carnets-sci.app/Library/lib/python3.11/site-packages (from matplotlib->control) (0.11.0)\n",
      "Requirement already satisfied: fonttools>=4.22.0 in /private/var/containers/Bundle/Application/D46A5347-8B1F-415F-8567-ACE86179AF97/Carnets-sci.app/Library/lib/python3.11/site-packages (from matplotlib->control) (4.38.0)\n",
      "Requirement already satisfied: kiwisolver>=1.0.1 in /private/var/containers/Bundle/Application/D46A5347-8B1F-415F-8567-ACE86179AF97/Carnets-sci.app/Library/lib/python3.11/site-packages (from matplotlib->control) (1.4.4)\n",
      "Requirement already satisfied: packaging>=20.0 in /private/var/containers/Bundle/Application/D46A5347-8B1F-415F-8567-ACE86179AF97/Carnets-sci.app/Library/lib/python3.11/site-packages (from matplotlib->control) (23.0)\n",
      "Requirement already satisfied: pillow>=6.2.0 in /private/var/containers/Bundle/Application/D46A5347-8B1F-415F-8567-ACE86179AF97/Carnets-sci.app/Library/lib/python3.11/site-packages (from matplotlib->control) (9.3.0)\n",
      "Requirement already satisfied: pyparsing>=2.3.1 in /private/var/containers/Bundle/Application/D46A5347-8B1F-415F-8567-ACE86179AF97/Carnets-sci.app/Library/lib/python3.11/site-packages (from matplotlib->control) (3.0.9)\n",
      "Requirement already satisfied: python-dateutil>=2.7 in /private/var/containers/Bundle/Application/D46A5347-8B1F-415F-8567-ACE86179AF97/Carnets-sci.app/Library/lib/python3.11/site-packages (from matplotlib->control) (2.8.2)\n",
      "Requirement already satisfied: setuptools-scm>=7 in /private/var/containers/Bundle/Application/D46A5347-8B1F-415F-8567-ACE86179AF97/Carnets-sci.app/Library/lib/python3.11/site-packages (from matplotlib->control) (7.1.0)\n",
      "Requirement already satisfied: six>=1.5 in /private/var/containers/Bundle/Application/D46A5347-8B1F-415F-8567-ACE86179AF97/Carnets-sci.app/Library/lib/python3.11/site-packages (from python-dateutil>=2.7->matplotlib->control) (1.16.0)\n",
      "Requirement already satisfied: setuptools in /private/var/containers/Bundle/Application/D46A5347-8B1F-415F-8567-ACE86179AF97/Carnets-sci.app/Library/lib/python3.11/site-packages (from setuptools-scm>=7->matplotlib->control) (67.0.0)\n",
      "Requirement already satisfied: typing-extensions in /private/var/containers/Bundle/Application/D46A5347-8B1F-415F-8567-ACE86179AF97/Carnets-sci.app/Library/lib/python3.11/site-packages (from setuptools-scm>=7->matplotlib->control) (4.4.0)\n",
      "\r"
     ]
    },
    {
     "name": "stderr",
     "output_type": "stream",
     "text": [
      "\n",
      "[notice] A new release of pip available: 22.3.1 -> 23.3.1\n",
      "[notice] To update, run: pip install --upgrade pip\n",
      "\r"
     ]
    },
    {
     "name": "stdout",
     "output_type": "stream",
     "text": [
      "Note: you may need to restart the kernel to use updated packages.\n"
     ]
    }
   ],
   "source": [
    "pip install control"
   ]
  },
  {
   "cell_type": "markdown",
   "metadata": {},
   "source": [
    "## Effects of Pole Location"
   ]
  },
  {
   "cell_type": "code",
   "execution_count": 3,
   "metadata": {},
   "outputs": [
    {
     "data": {
      "application/vnd.jupyter.widget-view+json": {
       "model_id": "b21cc9fe95154c089c22621a19795181",
       "version_major": 2,
       "version_minor": 0
      },
      "text/plain": [
       "interactive(children=(FloatSlider(value=0.5, description='zeta', max=1.0, min=-1.0, step=0.05), FloatSlider(va…"
      ]
     },
     "metadata": {},
     "output_type": "display_data"
    }
   ],
   "source": [
    "from __future__ import print_function\n",
    "from ipywidgets import interact, interactive, fixed, interact_manual\n",
    "import ipywidgets as widgets\n",
    "import matplotlib.pyplot as plt, random\n",
    "import control\n",
    "import numpy as np\n",
    "\n",
    "def step_response(zeta = 0.5, wn = 4*np.pi):\n",
    "    sysG = control.tf(wn**2, [1, 2*zeta*wn, wn**2])\n",
    "    t = np.linspace(0,3,501)\n",
    "    t, y = control.step_response(sysG,t)\n",
    "\n",
    "\n",
    "    fig, axs = plt.subplots(1,2, gridspec_kw={'width_ratios': [2, 1]}, figsize=(12,4))\n",
    "    \n",
    "    axs[0].plot(t,y)\n",
    "    plt.xlabel('t')\n",
    "    plt.ylabel('y')   \n",
    "    \n",
    "    alpha = zeta*wn\n",
    "    w = np.sqrt((1-zeta**2))*wn\n",
    "\n",
    "\n",
    "    axs[1].plot([-30, 30],[0, 0],'k')\n",
    "    axs[1].plot([0, 0],[-30, 30],'k')\n",
    "    axs[1].plot([-alpha, -alpha],[w, -w],'x')\n",
    "    axs[1].axis('equal')\n",
    "    axs[1].axis('square')\n",
    "    theta = np.linspace(0, 2*np.pi, 501)\n",
    "    \n",
    "    r = np.sqrt(alpha**2 + w**2)\n",
    "    axs[1].plot(r*np.cos(theta), r*np.sin(theta),'k:')\n",
    "    axs[1].plot([0, -alpha], [0, w],'k:')\n",
    "    axs[1].plot([0, -alpha], [0, -w],'k:')\n",
    "    \n",
    "    plt.xlabel('Re')\n",
    "    plt.ylabel('Im')\n",
    "\n",
    "    return()\n",
    "\n",
    "interact(step_response, zeta=(-1,1,0.05), wn=(np.pi,10*np.pi,1));"
   ]
  },
  {
   "cell_type": "code",
   "execution_count": null,
   "metadata": {},
   "outputs": [],
   "source": []
  }
 ],
 "metadata": {
  "kernelspec": {
   "display_name": "Python 3 (ipykernel)",
   "language": "python",
   "name": "python3"
  },
  "language_info": {
   "codemirror_mode": {
    "name": "ipython",
    "version": 3
   },
   "file_extension": ".py",
   "mimetype": "text/x-python",
   "name": "python",
   "nbconvert_exporter": "python",
   "pygments_lexer": "ipython3",
   "version": "3.11.0"
  },
  "widgets": {
   "application/vnd.jupyter.widget-state+json": {
    "state": {
     "30be9538528b42ccb6bda4227a84e803": {
      "model_module": "@jupyter-widgets/controls",
      "model_module_version": "2.0.0",
      "model_name": "VBoxModel",
      "state": {
       "_dom_classes": [
        "widget-interact"
       ],
       "children": [
        "IPY_MODEL_98d967da08074b25b62fcd05bdb66e63",
        "IPY_MODEL_af47e9756f9e4c2093b7651710e9becd",
        "IPY_MODEL_e1b0f1716ea34e7b87ad066723a7c2bb"
       ],
       "layout": "IPY_MODEL_7c58d4c5bb4440f6a1514bff956a5304"
      }
     },
     "5e0f79e248c1406f9b9ca00b4841367a": {
      "model_module": "@jupyter-widgets/base",
      "model_module_version": "2.0.0",
      "model_name": "LayoutModel",
      "state": {}
     },
     "7c58d4c5bb4440f6a1514bff956a5304": {
      "model_module": "@jupyter-widgets/base",
      "model_module_version": "2.0.0",
      "model_name": "LayoutModel",
      "state": {}
     },
     "8e5e714f805d4dea8bac6ba3e9fb37b8": {
      "model_module": "@jupyter-widgets/base",
      "model_module_version": "2.0.0",
      "model_name": "LayoutModel",
      "state": {}
     },
     "98d967da08074b25b62fcd05bdb66e63": {
      "model_module": "@jupyter-widgets/controls",
      "model_module_version": "2.0.0",
      "model_name": "FloatSliderModel",
      "state": {
       "behavior": "drag-tap",
       "description": "zeta",
       "layout": "IPY_MODEL_5e0f79e248c1406f9b9ca00b4841367a",
       "max": 1,
       "min": -1,
       "step": 0.05,
       "style": "IPY_MODEL_d089c64f07d64d0287f7dacc4ea91fcd",
       "value": 0.5
      }
     },
     "ae3f9c56d79f4e9790ffaba83c97b79f": {
      "model_module": "@jupyter-widgets/base",
      "model_module_version": "2.0.0",
      "model_name": "LayoutModel",
      "state": {}
     },
     "af47e9756f9e4c2093b7651710e9becd": {
      "model_module": "@jupyter-widgets/controls",
      "model_module_version": "2.0.0",
      "model_name": "FloatSliderModel",
      "state": {
       "behavior": "drag-tap",
       "description": "wn",
       "layout": "IPY_MODEL_8e5e714f805d4dea8bac6ba3e9fb37b8",
       "max": 31.41592653589793,
       "min": 3.141592653589793,
       "style": "IPY_MODEL_ca1e2574da0d45898e14bea8b47ceefe",
       "value": 12.141592653589793
      }
     },
     "ca1e2574da0d45898e14bea8b47ceefe": {
      "model_module": "@jupyter-widgets/controls",
      "model_module_version": "2.0.0",
      "model_name": "SliderStyleModel",
      "state": {
       "description_width": ""
      }
     },
     "d089c64f07d64d0287f7dacc4ea91fcd": {
      "model_module": "@jupyter-widgets/controls",
      "model_module_version": "2.0.0",
      "model_name": "SliderStyleModel",
      "state": {
       "description_width": ""
      }
     },
     "e1b0f1716ea34e7b87ad066723a7c2bb": {
      "model_module": "@jupyter-widgets/output",
      "model_module_version": "1.0.0",
      "model_name": "OutputModel",
      "state": {
       "layout": "IPY_MODEL_ae3f9c56d79f4e9790ffaba83c97b79f",
       "outputs": [
        {
         "data": {
          "image/png": "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",
          "text/plain": "<Figure size 1200x400 with 2 Axes>"
         },
         "metadata": {},
         "output_type": "display_data"
        },
        {
         "data": {
          "text/plain": "()"
         },
         "metadata": {},
         "output_type": "display_data"
        }
       ]
      }
     }
    },
    "version_major": 2,
    "version_minor": 0
   }
  }
 },
 "nbformat": 4,
 "nbformat_minor": 4
}
