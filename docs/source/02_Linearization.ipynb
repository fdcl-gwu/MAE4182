{
 "cells": [
  {
   "cell_type": "markdown",
   "metadata": {},
   "source": [
    "# Recitation 2: Transfer Function"
   ]
  },
  {
   "cell_type": "markdown",
   "metadata": {},
   "source": [
    "## Objectives\n",
    "    1. Define a nonlinear dynamic model in python\n",
    "    2. Compute the equilibrium and the linearized equations of the nonlinear dynamics\n",
    "    3. Obtain the transfer function from the linearized dynamics\n",
    "    "
   ]
  },
  {
   "cell_type": "markdown",
   "metadata": {},
   "source": [
    "## Python Control System Toolbox\n",
    "The [python-control package](https://python-control.readthedocs.io/en/0.9.4/) is a set of python classes and functions that implement common operations for the analysis and design of feedback control systems. \n",
    "Throughout the remainder of this course, we will utilize various commands from the control system toolbox.\n",
    "\n",
    "Unfortunatley, the python-control package is not installed at GW jupyterhub. Currently, GW Instructional Technology Lab is checking if it can be installed easily. Meanwhile, we have to install it at every session of jupyterhub by executing"
   ]
  },
  {
   "cell_type": "code",
   "execution_count": 1,
   "metadata": {},
   "outputs": [
    {
     "name": "stdout",
     "output_type": "stream",
     "text": [
      "Requirement already satisfied: control in /Users/tylee/jax-metal/lib/python3.11/site-packages (0.9.4)\n",
      "Requirement already satisfied: numpy in /Users/tylee/jax-metal/lib/python3.11/site-packages (from control) (1.25.2)\n",
      "Requirement already satisfied: scipy>=1.3 in /Users/tylee/jax-metal/lib/python3.11/site-packages (from control) (1.11.1)\n",
      "Requirement already satisfied: matplotlib in /Users/tylee/jax-metal/lib/python3.11/site-packages (from control) (3.7.2)\n",
      "Requirement already satisfied: contourpy>=1.0.1 in /Users/tylee/jax-metal/lib/python3.11/site-packages (from matplotlib->control) (1.1.0)\n",
      "Requirement already satisfied: cycler>=0.10 in /Users/tylee/jax-metal/lib/python3.11/site-packages (from matplotlib->control) (0.11.0)\n",
      "Requirement already satisfied: fonttools>=4.22.0 in /Users/tylee/jax-metal/lib/python3.11/site-packages (from matplotlib->control) (4.41.1)\n",
      "Requirement already satisfied: kiwisolver>=1.0.1 in /Users/tylee/jax-metal/lib/python3.11/site-packages (from matplotlib->control) (1.4.4)\n",
      "Requirement already satisfied: packaging>=20.0 in /Users/tylee/jax-metal/lib/python3.11/site-packages (from matplotlib->control) (23.1)\n",
      "Requirement already satisfied: pillow>=6.2.0 in /Users/tylee/jax-metal/lib/python3.11/site-packages (from matplotlib->control) (10.0.0)\n",
      "Requirement already satisfied: pyparsing<3.1,>=2.3.1 in /Users/tylee/jax-metal/lib/python3.11/site-packages (from matplotlib->control) (3.0.9)\n",
      "Requirement already satisfied: python-dateutil>=2.7 in /Users/tylee/jax-metal/lib/python3.11/site-packages (from matplotlib->control) (2.8.2)\n",
      "Requirement already satisfied: six>=1.5 in /Users/tylee/jax-metal/lib/python3.11/site-packages (from python-dateutil>=2.7->matplotlib->control) (1.16.0)\n",
      "Note: you may need to restart the kernel to use updated packages.\n"
     ]
    }
   ],
   "source": [
    "pip install control"
   ]
  },
  {
   "cell_type": "markdown",
   "metadata": {},
   "source": [
    "## Nonlinear State Equation\n",
    "\n",
    "In the modeling, the equations of motion are reformulated in to the state equation, given by $\\dot x = f (t, x, u)$ and $y=g(t,x,u)$. \n",
    "\n",
    "This can be formulated in python by [control.NonlinearIOSystem()](https://python-control.readthedocs.io/en/0.9.4/generated/control.NonlinearIOSystem.html#control.NonlinearIOSystem) with the usuage of\n",
    "\n",
    "```control.NonlinearIOSystem(updfcn, outfcn=None, params=None, **kwargs)```\n",
    "\n",
    "where \n",
    "\n",
    "* `updfcn(t, x, u, params)` is a python function for $f(t,x,u)$ with an additional parameter\n",
    "* `outfcn(t, x, u, params)` is a python function for $g(t,x,u)$ with an additional parameter\n",
    "\n",
    "### Pendulum\n",
    "\n",
    "Recall that the state equation of the pendulum is\n",
    "\n",
    "\\begin{align*}\n",
    "\\dot x & = f(t, x, u) = \n",
    "\\begin{bmatrix} \n",
    "x_2 \\\\\n",
    "-\\frac{g}{l}\\sin x_1 + \\frac{1}{ml^2}u\n",
    "\\end{bmatrix}, \\\\\n",
    "y & = g(t, x, u) = x_1.\n",
    "\\end{align*}\n",
    "\n",
    "Suppose $m=\\frac{1}{2\\times 9.8^2}\\mathrm{kg}$, and $l=9.8\\mathrm{m}$.\n",
    "This can be modeled by the above python command as follows.\n"
   ]
  },
  {
   "cell_type": "code",
   "execution_count": 7,
   "metadata": {},
   "outputs": [
    {
     "name": "stdout",
     "output_type": "stream",
     "text": [
      "<NonlinearIOSystem>: pendulum\n",
      "Inputs (1): ['torque']\n",
      "Outputs (1): ['angle']\n",
      "States (2): ['angle', 'angular_velocity']\n",
      "\n",
      "Update: <function pendulum_eom at 0x13a278fe0>\n",
      "Output: <function pendulum_output at 0x13a279440>\n"
     ]
    }
   ],
   "source": [
    "import control\n",
    "import numpy as np\n",
    "\n",
    "params = {\"m\": 1/2/9.8**2, \"l\": 9.8, \"g\": 9.8}\n",
    "def pendulum_eom(t, x, u, params):\n",
    "    m = params['m']\n",
    "    l = params['l']\n",
    "    g = params['g']\n",
    "\n",
    "    x_dot = np.array([x[1], -g/l*np.sin(x[0]) + 1/m/l**2*u[0]])\n",
    "    return x_dot\n",
    "\n",
    "def pendulum_output(t, x, u, params):\n",
    "    return x[0]\n",
    "\n",
    "# define a nonlinear dynamic model (the second and the third lines are optional)\n",
    "sys_pendulum = control.NonlinearIOSystem(updfcn = pendulum_eom, outfcn=pendulum_output, \\\n",
    "                                         states=('angle', 'angular_velocity'), output=('angle'), inputs=('torque'), \\\n",
    "                                         name='pendulum')\n",
    "\n",
    "print(sys_pendulum)\n"
   ]
  },
  {
   "cell_type": "markdown",
   "metadata": {},
   "source": [
    "### Notes\n",
    "There are a couple of details that should be satisfied, as summarized below.\n",
    "* Both functions takes four input arguments of `(t, x, u, params)`\n",
    "* While the input $u$ is one-dimensional, it is referenced by `u[0]` with an index `0`\n",
    "* The output of the function is an numpy array."
   ]
  },
  {
   "cell_type": "markdown",
   "metadata": {},
   "source": [
    "## Transfer Function\n",
    "\n",
    "The transfer function of the pendulum is obtained by the three steps of\n",
    "1. Find equilibirum using [control.find_eqpt()](https://python-control.readthedocs.io/en/0.9.4/generated/control.find_eqpt.html).\n",
    "2. Find the linearized equations of motion, or the linear state-spade model using [control.linearize()](https://python-control.readthedocs.io/en/latest/generated/control.linearize.html)\n",
    "3. Find the trasfer function using [control.ss2tf()](https://python-control.readthedocs.io/en/latest/generated/control.ss2tf.html)\n",
    "### Pendulum\n",
    "\n",
    "For the above pendulum model, "
   ]
  },
  {
   "cell_type": "code",
   "execution_count": 3,
   "metadata": {},
   "outputs": [
    {
     "name": "stdout",
     "output_type": "stream",
     "text": [
      "Equilibrium state = [0. 0.]\n",
      "Equilibrium control = [0]\n"
     ]
    }
   ],
   "source": [
    "# initial guess of the equilibrium state and control\n",
    "x0 = [0.1, 0.1]\n",
    "u0 = [0]\n",
    "\n",
    "# Find equilibrium state and control near (x0, u0)\n",
    "x_star, u_star = control.find_eqpt(sys_pendulum, x0=x0, u0=[0], params=params)\n",
    "print(f'Equilibrium state = {x_star}')\n",
    "print(f'Equilibrium control = {u_star}')\n"
   ]
  },
  {
   "cell_type": "code",
   "execution_count": 4,
   "metadata": {},
   "outputs": [
    {
     "name": "stdout",
     "output_type": "stream",
     "text": [
      "<LinearIOSystem>: sys[3]\n",
      "Inputs (1): ['u[0]']\n",
      "Outputs (1): ['y[0]']\n",
      "States (2): ['x[0]', 'x[1]']\n",
      "\n",
      "A = [[ 0.  1.]\n",
      "     [-1.  0.]]\n",
      "\n",
      "B = [[0.]\n",
      "     [2.]]\n",
      "\n",
      "C = [[1. 0.]]\n",
      "\n",
      "D = [[0.]]\n",
      "\n"
     ]
    }
   ],
   "source": [
    "# Linearize about the above equilibrium\n",
    "ss_pendulum = control.linearize(sys_pendulum, x_star, u_star, params=params)\n",
    "print(ss_pendulum)\n",
    "\n"
   ]
  },
  {
   "cell_type": "code",
   "execution_count": 5,
   "metadata": {},
   "outputs": [
    {
     "name": "stdout",
     "output_type": "stream",
     "text": [
      "\n",
      "   2\n",
      "-------\n",
      "s^2 + 1\n",
      "\n"
     ]
    }
   ],
   "source": [
    "# Transfer function\n",
    "tf_pendulum = control.ss2tf(ss_pendulum)\n",
    "print(tf_pendulum)"
   ]
  },
  {
   "cell_type": "markdown",
   "metadata": {},
   "source": [
    "## Task\n",
    "\n",
    "The above linearization and trasnfer function are about the **hanging** equilibrium of the pendulum. Repeat the above procedure to obtain the transfer function linearized about the **inverted** equilibrium.\n",
    "\n",
    "The code largely remains unchanged. Copy and paste the above code, and revise the initial guess of the equilibrium state close to $[\\pi, 0]$. (While we already know that the inverted equilibirum is at $[\\pi, 0]$, we wish to rediscover that using Python here.)"
   ]
  },
  {
   "cell_type": "code",
   "execution_count": null,
   "metadata": {},
   "outputs": [],
   "source": []
  }
 ],
 "metadata": {
  "kernelspec": {
   "display_name": "Python 3 (ipykernel)",
   "language": "python",
   "name": "python3"
  },
  "language_info": {
   "codemirror_mode": {
    "name": "ipython",
    "version": 3
   },
   "file_extension": ".py",
   "mimetype": "text/x-python",
   "name": "python",
   "nbconvert_exporter": "python",
   "pygments_lexer": "ipython3",
   "version": "3.11.5"
  },
  "vscode": {
   "interpreter": {
    "hash": "b0fa6594d8f4cbf19f97940f81e996739fb7646882a419484c72d19e05852a7e"
   }
  }
 },
 "nbformat": 4,
 "nbformat_minor": 4
}
