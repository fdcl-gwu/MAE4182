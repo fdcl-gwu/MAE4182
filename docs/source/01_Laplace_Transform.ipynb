{
 "cells": [
  {
   "cell_type": "markdown",
   "metadata": {},
   "source": [
    "# Recitation 1: Laplace Transform"
   ]
  },
  {
   "cell_type": "markdown",
   "metadata": {},
   "source": [
    "## Objective \n",
    "    1. Perform Laplace trasnform and inverse trasnform using symbolic computation"
   ]
  },
  {
   "cell_type": "markdown",
   "metadata": {},
   "source": [
    "## Symbolic Computation\n",
    "\n",
    "[SymPy](https://docs.sympy.org/latest/index.html) is a Python library for symbolic mathematics. It provides symbolic computation for [Laplace Transform](https://docs.sympy.org/latest/modules/integrals/integrals.html#sympy.integrals.transforms.laplace_transform).\n",
    "\n"
   ]
  },
  {
   "cell_type": "markdown",
   "metadata": {},
   "source": [
    "To use symbolic computation, we have to declare symbolic variables"
   ]
  },
  {
   "cell_type": "code",
   "execution_count": null,
   "metadata": {},
   "outputs": [],
   "source": [
    "from sympy import *\n",
    "s = symbols('s')\n",
    "t = symbols('t', positve=True)\n",
    "w = symbols('w', real=True)"
   ]
  },
  {
   "cell_type": "markdown",
   "metadata": {},
   "source": [
    "The Laplace trasnform of $\\sin\\omega t$ can be computed by"
   ]
  },
  {
   "cell_type": "code",
   "execution_count": null,
   "metadata": {},
   "outputs": [],
   "source": [
    "laplace_transform(sin(w*t),t,s)"
   ]
  },
  {
   "cell_type": "markdown",
   "metadata": {},
   "source": [
    "The following command [init_printing()](https://docs.sympy.org/latest/tutorials/intro-tutorial/printing.html) improves output printing."
   ]
  },
  {
   "cell_type": "code",
   "execution_count": null,
   "metadata": {},
   "outputs": [],
   "source": [
    "init_printing()\n",
    "laplace_transform(sin(w*t),t,s)\n"
   ]
  },
  {
   "cell_type": "markdown",
   "metadata": {},
   "source": [
    "The inverse transform of $\\dfrac{s}{s^2 + \\omega^2}$ can be computed by"
   ]
  },
  {
   "cell_type": "code",
   "execution_count": null,
   "metadata": {},
   "outputs": [],
   "source": [
    "inverse_laplace_transform( s/ ( s**2 + w**2 ), s, t)"
   ]
  },
  {
   "cell_type": "markdown",
   "metadata": {},
   "source": [
    "Several special functions are also availalbe at [https://docs.sympy.org/latest/modules/functions/special.html](https://docs.sympy.org/latest/modules/functions/special.html)\n",
    "\n",
    "For example,\n",
    "*   $\\delta (t)$: `DiracDelta()`\n",
    "*   $u_s(t)$: `Heaviside()`\n",
    "\n",
    "See the above link for detailed usuages. "
   ]
  },
  {
   "cell_type": "markdown",
   "metadata": {},
   "source": [
    "## Task 1\n",
    "Find the Laplace transform of the following functions\n",
    "\n",
    "1. $\\cos 2t$\n",
    "2. $\\exp (-at)$\n",
    "3. $t^n$\n",
    "4. $\\cos^2 t$"
   ]
  },
  {
   "cell_type": "code",
   "execution_count": null,
   "metadata": {},
   "outputs": [],
   "source": [
    "a = symbols('a', real=True)\n",
    "n = symbols('n', integer=True)\n",
    "\n"
   ]
  },
  {
   "cell_type": "markdown",
   "metadata": {},
   "source": [
    "## Task 2\n",
    "Find the inverse transform of the following function\n",
    "\n",
    "1. $\\dfrac{1}{s^3}$\n",
    "2. $\\dfrac{\\omega}{(s+a)^2 + \\omega^2}$\n",
    "3. $\\dfrac{s+1}{s^3 + s^2 - 6s}$"
   ]
  },
  {
   "cell_type": "code",
   "execution_count": null,
   "metadata": {},
   "outputs": [],
   "source": []
  }
 ],
 "metadata": {
  "kernelspec": {
   "display_name": "Python 3 (ipykernel)",
   "language": "python"
  },
  "language_info": {
   "codemirror_mode": {
    "name": "ipython",
    "version": 3
   },
   "file_extension": ".py",
   "mimetype": "text/x-python",
   "name": "python",
   "nbconvert_exporter": "python",
   "version": "3.9.10+"
  },
  "vscode": {
   "interpreter": {
    "hash": "b0fa6594d8f4cbf19f97940f81e996739fb7646882a419484c72d19e05852a7e"
   }
  }
 },
 "nbformat": 4,
 "nbformat_minor": 4
}
