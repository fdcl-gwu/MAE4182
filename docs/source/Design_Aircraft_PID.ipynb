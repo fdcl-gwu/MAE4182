{
 "cells": [
  {
   "cell_type": "markdown",
   "metadata": {},
   "source": [
    "# Aircraft Longitudinal Mode Control - PID"
   ]
  },
  {
   "cell_type": "markdown",
   "metadata": {},
   "source": [
    "## Python Control System Toolbox\n",
    "If you are running this code at your local computer where the python control system toolbox is already installed skip or uncomment the following line."
   ]
  },
  {
   "cell_type": "code",
   "execution_count": null,
   "metadata": {},
   "outputs": [],
   "source": [
    "#pip install control"
   ]
  },
  {
   "cell_type": "markdown",
   "metadata": {},
   "source": [
    "## Useful Tools\n",
    "\n",
    "We define teh following three functions that are useful for control system design:\n",
    "\n",
    "*   `zeta = mae4182.Mp2zeta(Mp)`: convert the overshoot into the correspondin value of damping for the prototype second order system;\n",
    "* `mae4182.sgrid(zeta, wn)`: draw the line of the fixed damping and the circle of the fixed natural frequency in the complex plane;\n",
    "* `M_p, t_r, t_s, t_d = mae4182.step_info(sysG)`: compute the time domain specifications according to the definition of the class."
   ]
  },
  {
   "cell_type": "code",
   "execution_count": null,
   "metadata": {},
   "outputs": [],
   "source": [
    "import control\n",
    "import matplotlib.pyplot as plt\n",
    "import numpy as np\n",
    "import sys\n",
    "import types\n",
    "\n",
    "mae4182 = types.ModuleType('mae4182')\n",
    "sys.modules['mae4182'] = mae4182\n",
    "\n",
    "mae4182_code = '''\n",
    "import control\n",
    "import matplotlib.pyplot as plt\n",
    "import numpy as np\n",
    "\n",
    "import sys\n",
    "import types\n",
    "\n",
    "def Mp2zeta(Mp):\n",
    "    c=np.log(Mp)**2 \n",
    "    zeta = np.sqrt(c/(np.pi**2+c))                 \n",
    "    return zeta\n",
    "\n",
    "\n",
    "def sgrid(zeta,wn):\n",
    "    axes = plt.gca()\n",
    "    xmin, xmax = axes.get_xlim()\n",
    "    ymin, ymax = axes.get_ylim()\n",
    "    \n",
    "    theta=np.linspace(0,2*np.pi,501)\n",
    "    axes.plot(wn*np.cos(theta),wn*np.sin(theta),'k:')\n",
    "    \n",
    "    if zeta < 1:\n",
    "        tan_theta=zeta/np.sqrt(1-zeta**2)\n",
    "        \n",
    "    if xmin < -tan_theta*ymax:\n",
    "        axes.plot([0, -tan_theta*ymax],[0, ymax],'k:')\n",
    "        axes.plot([0, -tan_theta*ymax],[0, ymin],'k:')\n",
    "    else:\n",
    "        axes.plot([0, xmin],[0, -xmin/tan_theta],'k:')\n",
    "        axes.plot([0, xmin],[0, xmin/tan_theta],'k:')\n",
    "\n",
    "\n",
    "def step_info(sysG):\n",
    "    output = control.step_info(sysG, SettlingTimeThreshold = 0.05)\n",
    "    M_p = output[\"Overshoot\"]\n",
    "    t_r = output[\"RiseTime\"]\n",
    "    t_s = output[\"SettlingTime\"]\n",
    "    output = control.step_info(sysG, RiseTimeLimits = (0,0.5))\n",
    "    t_d = output[\"RiseTime\"]\n",
    "    return M_p, t_r, t_s, t_d\n",
    "\n",
    "'''\n",
    "exec(mae4182_code, mae4182.__dict__)\n",
    "\n",
    "\n"
   ]
  },
  {
   "cell_type": "markdown",
   "metadata": {},
   "source": [
    "## Aircraft Longitudinal Dynamics\n",
    "\n",
    "The transfer function of Piper Dakota from the elevator angle $\\delta_e$ to the pitching angle $\\theta$ is given by"
   ]
  },
  {
   "cell_type": "code",
   "execution_count": null,
   "metadata": {},
   "outputs": [],
   "source": [
    "import control\n",
    "import matplotlib.pyplot as plt\n",
    "import numpy as np\n",
    "\n",
    "sysG = control.tf(160*np.polymul([1, 2.5],[1, 0.7]), np.polymul([1, 5, 40],[1, 0.03, 0.06]))\n",
    "\n",
    "display(sysG)"
   ]
  },
  {
   "cell_type": "code",
   "execution_count": null,
   "metadata": {},
   "outputs": [],
   "source": [
    "wn, zeta, poles = control.damp(sysG)"
   ]
  },
  {
   "cell_type": "markdown",
   "metadata": {},
   "source": [
    "The impulse response of the uncontrolled system is given by"
   ]
  },
  {
   "cell_type": "code",
   "execution_count": null,
   "metadata": {},
   "outputs": [],
   "source": [
    "%matplotlib inline\n",
    "plt.rcParams['text.usetex'] = True\n",
    "\n",
    "t, y = control.impulse_response(sysG)\n",
    "\n",
    "plt.figure(figsize=(8,6))\n",
    "plt.plot(t,y)\n",
    "plt.xlabel(r'$\\delta_e$')\n",
    "plt.ylabel(r'$\\theta$')\n",
    "plt.title('impulse response')\n",
    "plt.grid()"
   ]
  },
  {
   "cell_type": "code",
   "execution_count": null,
   "metadata": {},
   "outputs": [],
   "source": [
    "\n",
    "import numpy as np\n",
    "import matplotlib.pyplot as plt\n",
    "from matplotlib.patches import Polygon\n",
    "import matplotlib.animation as animation\n",
    "import matplotlib.patches as patches\n",
    "import base64\n",
    "\n",
    "#%matplotlib ipympl\n",
    "%matplotlib widget\n",
    "\n",
    "N = 500\n",
    "t = np.linspace(0, 100, N)\n",
    "t, y = control.impulse_response(sysG, t)\n",
    "\n",
    "\n",
    "# generate animation\n",
    "B_vertices = b'UUUzMFFFMzCIRDE3iEQxN1pDajhaQ2o45EGrOORBqzjlQKs45UCrOJg/cTuYP3E7iT2VPIk9lTxaO/Q8Wjv0PBY4BT0WOAU9VyHXPFch1zxBuWw8QblsPHq+hzt6voc79cBaOvXAWjrpwhQ56cIUOUnEwjhJxMI4/cRsOP3EbDhBxYI4QcWCOI3FfzmNxX851MWuO9TFrjvdxi5A3cYuQPTGaED0xmhAEsd7QBLHe0D9x31A/cd9QDXHnao1x52qRccys0XHMrM7xzK4O8cyuAPHQLkDx0C5o8atuaPGrblovky8aL5MvFu8XbxbvF28tLlovLS5aLxtrFy8baxcvI85E7yPORO8cUFku3FBZLukQai6pEGouj9CZbs/QmW7BUNpugVDabrEQ4i5xEOIuT1Exrc9RMa3ZkSGtWZEhrWFRDSxhUQ0sdREqK3URKitGkW9IhpFvSI='\n",
    "B_vertices_window = b'/TwoPP08KDx8PjI3fD4yN9o/ATfaPwE3f0AVOH9AFTjNQAk5zUAJOTZAfDo2QHw67T4HPO0+Bzw='\n",
    "vertices0 = np.frombuffer(base64.decodebytes(B_vertices), dtype=np.float16).reshape(-1,2)\n",
    "vertices0_window = np.frombuffer(base64.decodebytes(B_vertices_window), dtype=np.float16).reshape(-1,2)\n",
    "\n",
    "#theta = np.linspace(0, 50, 100)*np.pi/180\n",
    "theta_deg = y\n",
    "theta = theta_deg*np.pi/180\n",
    "\n",
    "R = np.array([[np.cos(theta[0]), -np.sin(theta[0])], [np.sin(theta[0]), np.cos(theta[0])]])\n",
    "vertices = R @ vertices0.T\n",
    "vertices_window = R @ vertices0_window.T\n",
    "\n",
    "patch = Polygon(vertices.T, facecolor = 'b')\n",
    "patch_window = Polygon(vertices_window.T, facecolor = 'w')\n",
    "\n",
    "fig = plt.figure(figsize = (8,6))\n",
    "ax = plt.gca()\n",
    "ax.add_patch(patch)\n",
    "ax.add_patch(patch_window)\n",
    "text_t = ax.text(-2,-3, f't = {t[0]:.2f}')\n",
    "ax.axis('equal')\n",
    "ax.axis('off')\n",
    "plt.show()\n",
    "\n",
    "def init():\n",
    "    return patch, patch_window\n",
    "\n",
    "def animate(i):\n",
    "    R = np.array([[np.cos(theta[i]), -np.sin(theta[i])], [np.sin(theta[i]), np.cos(theta[i])]])\n",
    "    vertices = R @ vertices0.T\n",
    "    vertices_window = R @ vertices0_window.T\n",
    "\n",
    "    patch.set_xy(vertices.T)\n",
    "    patch_window.set_xy(vertices_window.T)\n",
    "    text_t.set_text(f't = {t[i]:.2f}')\n",
    "    return patch, patch_window\n",
    "\n",
    "ani = animation.FuncAnimation(fig, animate, N, init_func=init, interval=10, repeat=False)\n"
   ]
  },
  {
   "cell_type": "markdown",
   "metadata": {},
   "source": [
    "## Time-Domain Control Design\n",
    "\n",
    "We wish to design a control system such that\n",
    "* Overshoot $M_p\\leq 0.1$\n",
    "* Rise time $t_r\\leq 1.5$\n",
    "* Steady state error due to $r=t$ is less than 0.1\n",
    "\n",
    "To satisfy the last design spec, the system type should be greater than or equal to 1. As such, we need an integral term. Here we apply PID control with\n",
    "\n",
    "$$ C(s) = \\frac{K_d s^2 + Ks +K_i}{s} = \\frac{ K (T_d s^2 + s + T_i)}{s}. $$\n",
    "\n",
    "The error constant $K_v$ is given by\n",
    "\n",
    "$$ K_v = \\lim_{s\\rightarrow 0} s C(s) G(s) = K_i G(0) = 116.67 K_i. $$\n",
    "\n",
    "Thus, the steady state error due to the ramp input is\n",
    "\n",
    "$$ e_{ss} = \\frac{1}{K_v} = \\frac{1}{116.67 K_i} \\leq 0.1, $$ \n",
    "\n",
    "which is equivalent to $K_i \\geq \\frac{1}{11.667} = 0.085$.\n",
    "In other words, the last design spec can be satisfied if $K_i \\geq 0.085$.\n",
    "\n",
    "Next, the first two  design specifications are converted into the corresponding values of $(\\zeta, \\omega_n)$ as follows."
   ]
  },
  {
   "cell_type": "code",
   "execution_count": null,
   "metadata": {},
   "outputs": [],
   "source": [
    "Mp = 0.1\n",
    "tr = 1.5\n",
    "\n",
    "zeta = mae4182.Mp2zeta(Mp)\n",
    "wn = (0.8+2.5*zeta)/tr\n",
    "\n",
    "print(f'zeta = {zeta:.2f}, wn={wn:.2f}')"
   ]
  },
  {
   "cell_type": "markdown",
   "metadata": {},
   "source": [
    "### PID Control"
   ]
  },
  {
   "cell_type": "markdown",
   "metadata": {},
   "source": [
    "The characteristic equation for the closed-loop system is \n",
    "$$1+C(s)G(s)= 1 + K C_0(s) G(s)=0,$$\n",
    "where $C_0(s) = \\dfrac{T_d s^2 + s + T_i}{s}$.\n",
    "\n",
    "We first fix $T_i=2$, then design the PD part of the controller."
   ]
  },
  {
   "cell_type": "code",
   "execution_count": null,
   "metadata": {
    "scrolled": false
   },
   "outputs": [],
   "source": [
    "%matplotlib widget \n",
    "\n",
    "Ti = 2\n",
    "Td = 0.2\n",
    "\n",
    "sysC0 = control.tf([Td, 1, Ti],[1, 0])\n",
    "\n",
    "plt.figure()\n",
    "#roots, K = control.root_locus(sysC0*sysG,grid=False)\n",
    "roots, K = control.root_locus(sysC0*sysG, xlim=[-6,1], ylim=[-10,10], grid=False)\n",
    "axes = plt.gca()\n",
    "axes.set_title('T_d='+str(Td)+', T_i='+str(Ti))\n",
    "        \n",
    "mae4182.sgrid(zeta, wn)"
   ]
  },
  {
   "cell_type": "markdown",
   "metadata": {},
   "source": [
    "We simulate the step response and find the time-domain specs. "
   ]
  },
  {
   "cell_type": "code",
   "execution_count": null,
   "metadata": {
    "scrolled": true
   },
   "outputs": [],
   "source": [
    "%matplotlib inline\n",
    "\n",
    "K = 0.65\n",
    "Kd = K*Td\n",
    "Ki = K*Ti\n",
    "\n",
    "sysC = K*sysC0\n",
    "sysYR = control.feedback(sysC*sysG,1)\n",
    "t, y = control.step_response(sysYR)\n",
    "plt.figure()\n",
    "plt.plot(t,y)\n",
    "plt.xlabel('t')\n",
    "plt.ylabel('y')\n",
    "plt.title('step response')\n",
    "plt.grid()\n",
    "\n",
    "\n",
    "M_p, t_r, t_s, t_d = mae4182.step_info(sysYR)\n",
    "print(f'K_i = {Ki:.2f}')\n",
    "print(f'M_p = {M_p:.2f}')\n",
    "print(f't_r = {t_r:.2f}')\n",
    "\n"
   ]
  },
  {
   "cell_type": "markdown",
   "metadata": {},
   "source": [
    "Next, we verify the steady state error due to a ramp input."
   ]
  },
  {
   "cell_type": "code",
   "execution_count": null,
   "metadata": {},
   "outputs": [],
   "source": [
    "%matplotlib inline\n",
    "\n",
    "t = np.linspace(0,20,501)\n",
    "r = t\n",
    "\n",
    "t, y = control.forced_response(sysYR, t, r)\n",
    "e = r - y\n",
    "\n",
    "fig = plt.figure(figsize = (14,6))\n",
    "plt.subplot(1,2,1)\n",
    "plt.plot(t, y, 'b', t, r, 'r')\n",
    "plt.xlabel('t')\n",
    "plt.ylabel('y')\n",
    "plt.grid()\n",
    "plt.subplot(1,2,2)\n",
    "plt.plot(t,e)\n",
    "plt.xlabel('t')\n",
    "plt.ylabel('e')\n",
    "plt.grid()\n",
    "\n",
    "print(f'e_ss = {e[-1]:.2f}')"
   ]
  },
  {
   "cell_type": "markdown",
   "metadata": {},
   "source": [
    "Finally, we simulate a specific case to make the pitch angle $\\theta = 10^\\circ$."
   ]
  },
  {
   "cell_type": "code",
   "execution_count": null,
   "metadata": {},
   "outputs": [],
   "source": [
    "\n",
    "import numpy as np\n",
    "import matplotlib.pyplot as plt\n",
    "from matplotlib.patches import Polygon\n",
    "import matplotlib.animation as animation\n",
    "import matplotlib.patches as patches\n",
    "import base64\n",
    "\n",
    "%matplotlib widget\n",
    "\n",
    "N = 500\n",
    "t = np.linspace(0, 5, N)\n",
    "t, y = control.forced_response(sysYR, t, 10)\n",
    "\n",
    "# generate animation\n",
    "B_vertices = b'UUUzMFFFMzCIRDE3iEQxN1pDajhaQ2o45EGrOORBqzjlQKs45UCrOJg/cTuYP3E7iT2VPIk9lTxaO/Q8Wjv0PBY4BT0WOAU9VyHXPFch1zxBuWw8QblsPHq+hzt6voc79cBaOvXAWjrpwhQ56cIUOUnEwjhJxMI4/cRsOP3EbDhBxYI4QcWCOI3FfzmNxX851MWuO9TFrjvdxi5A3cYuQPTGaED0xmhAEsd7QBLHe0D9x31A/cd9QDXHnao1x52qRccys0XHMrM7xzK4O8cyuAPHQLkDx0C5o8atuaPGrblovky8aL5MvFu8XbxbvF28tLlovLS5aLxtrFy8baxcvI85E7yPORO8cUFku3FBZLukQai6pEGouj9CZbs/QmW7BUNpugVDabrEQ4i5xEOIuT1Exrc9RMa3ZkSGtWZEhrWFRDSxhUQ0sdREqK3URKitGkW9IhpFvSI='\n",
    "B_vertices_window = b'/TwoPP08KDx8PjI3fD4yN9o/ATfaPwE3f0AVOH9AFTjNQAk5zUAJOTZAfDo2QHw67T4HPO0+Bzw='\n",
    "vertices0 = np.frombuffer(base64.decodebytes(B_vertices), dtype=np.float16).reshape(-1,2)\n",
    "vertices0_window = np.frombuffer(base64.decodebytes(B_vertices_window), dtype=np.float16).reshape(-1,2)\n",
    "\n",
    "theta_deg = y\n",
    "theta = theta_deg*np.pi/180\n",
    "\n",
    "R = np.array([[np.cos(theta[0]), -np.sin(theta[0])], [np.sin(theta[0]), np.cos(theta[0])]])\n",
    "vertices = R @ vertices0.T\n",
    "vertices_window = R @ vertices0_window.T\n",
    "\n",
    "patch = Polygon(vertices.T, facecolor = 'b')\n",
    "patch_window = Polygon(vertices_window.T, facecolor = 'w')\n",
    "\n",
    "fig = plt.figure(figsize = (10,8))\n",
    "ax = plt.gca()\n",
    "ax.add_patch(patch)\n",
    "ax.add_patch(patch_window)\n",
    "text_t = ax.text(-2,-3, f't = {t[0]:.2f}')\n",
    "ax.axis('equal')\n",
    "ax.axis('off')\n",
    "plt.show()\n",
    "\n",
    "def init():\n",
    "    return patch, patch_window\n",
    "\n",
    "def animate(i):\n",
    "    R = np.array([[np.cos(theta[i]), -np.sin(theta[i])], [np.sin(theta[i]), np.cos(theta[i])]])\n",
    "    vertices = R @ vertices0.T\n",
    "    vertices_window = R @ vertices0_window.T\n",
    "\n",
    "    patch.set_xy(vertices.T)\n",
    "    patch_window.set_xy(vertices_window.T)\n",
    "    text_t.set_text(f't = {t[i]:.2f}')\n",
    "    return patch, patch_window\n",
    "\n",
    "ani = animation.FuncAnimation(fig, animate, N, init_func=init, interval=10, repeat=False)\n"
   ]
  },
  {
   "cell_type": "code",
   "execution_count": null,
   "metadata": {},
   "outputs": [],
   "source": []
  }
 ],
 "metadata": {
  "interpreter": {
   "hash": "b0fa6594d8f4cbf19f97940f81e996739fb7646882a419484c72d19e05852a7e"
  },
  "kernelspec": {
   "display_name": "Python 3.9.12 64-bit",
   "language": "python",
   "name": "python3"
  },
  "language_info": {
   "codemirror_mode": {
    "name": "ipython",
    "version": 3
   },
   "file_extension": ".py",
   "mimetype": "text/x-python",
   "name": "python",
   "nbconvert_exporter": "python",
   "pygments_lexer": "ipython3",
   "version": "3.11.5"
  }
 },
 "nbformat": 4,
 "nbformat_minor": 4
}
