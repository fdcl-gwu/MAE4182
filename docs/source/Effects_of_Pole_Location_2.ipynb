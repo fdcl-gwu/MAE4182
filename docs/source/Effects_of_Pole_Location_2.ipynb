{
 "cells": [
  {
   "cell_type": "markdown",
   "metadata": {},
   "source": [
    "# Effects of Pole Location in Step-Response and Freq-Response"
   ]
  },
  {
   "cell_type": "markdown",
   "metadata": {},
   "source": [
    "## Python Control System Toolbox\n",
    "If you are running this code at your local computer where the python control system toolbox is already installed skip or uncomment the following line."
   ]
  },
  {
   "cell_type": "code",
   "execution_count": null,
   "metadata": {},
   "outputs": [],
   "source": [
    "pip install control"
   ]
  },
  {
   "cell_type": "markdown",
   "metadata": {},
   "source": [
    "## Effects of Pole Location"
   ]
  },
  {
   "cell_type": "code",
   "execution_count": 1,
   "metadata": {},
   "outputs": [
    {
     "data": {
      "application/vnd.jupyter.widget-view+json": {
       "model_id": "efbcbf73fcf94ca5bdcf2e1b08c1865c",
       "version_major": 2,
       "version_minor": 0
      },
      "text/plain": [
       "interactive(children=(FloatSlider(value=0.5, description='zeta', max=1.0, min=-1.0, step=0.05), FloatSlider(va…"
      ]
     },
     "metadata": {},
     "output_type": "display_data"
    }
   ],
   "source": [
    "from __future__ import print_function\n",
    "from ipywidgets import interact, interactive, fixed, interact_manual\n",
    "import ipywidgets as widgets\n",
    "import matplotlib.pyplot as plt, random\n",
    "import control\n",
    "import numpy as np\n",
    "\n",
    "def step_response(zeta = 0.5, wn = 4*np.pi):\n",
    "    sysG = control.tf(wn**2, [1, 2*zeta*wn, wn**2])\n",
    "    t = np.linspace(0,3,501)\n",
    "    t, y = control.step_response(sysG,t)\n",
    "\n",
    "#, gridspec_kw={'width_ratios': [2, 1]},\n",
    "\n",
    "    fig, axs = plt.subplots(3,1, figsize=(12,15))\n",
    "    \n",
    "    axs[1].plot(t,y)\n",
    "    axs[1].set_xlabel('t')\n",
    "    axs[1].set_ylabel('y')   \n",
    "    \n",
    "    alpha = zeta*wn\n",
    "    w = np.sqrt((1-zeta**2))*wn\n",
    "\n",
    "    axs[2].plot([-30, 30],[0, 0],'k')\n",
    "    axs[2].plot([0, 0],[-30, 30],'k')\n",
    "    axs[2].plot([-alpha, -alpha],[w, -w],'x')\n",
    "    axs[2].axis('equal')\n",
    "    axs[2].axis('square')\n",
    "    theta = np.linspace(0, 2*np.pi, 501)\n",
    "    \n",
    "    r = np.sqrt(alpha**2 + w**2)\n",
    "    axs[2].plot(r*np.cos(theta), r*np.sin(theta),'k:')\n",
    "    axs[2].plot([0, -alpha], [0, w],'k:')\n",
    "    axs[2].plot([0, -alpha], [0, -w],'k:')\n",
    "    \n",
    "    axs[2].set_xlabel('Re')\n",
    "    axs[2].set_ylabel('Im')\n",
    "\n",
    "    omega = np.logspace(0,2,1001)\n",
    "    mag, phase, omega = control.bode(sysG, omega, plot=False)\n",
    "    axs[0].loglog(omega,mag)\n",
    "    \n",
    "    axs[0].set_xlabel('omega')\n",
    "    axs[0].set_ylabel('Mag')\n",
    "\n",
    "\n",
    "    return\n",
    "\n",
    "interact(step_response, zeta=(-1,1,0.05), wn=(np.pi,10*np.pi,1));\n"
   ]
  },
  {
   "cell_type": "code",
   "execution_count": null,
   "metadata": {},
   "outputs": [],
   "source": []
  },
  {
   "cell_type": "code",
   "execution_count": null,
   "metadata": {},
   "outputs": [],
   "source": []
  }
 ],
 "metadata": {
  "kernelspec": {
   "display_name": "Python 3 (ipykernel)",
   "language": "python",
   "name": "python3"
  },
  "language_info": {
   "codemirror_mode": {
    "name": "ipython",
    "version": 3
   },
   "file_extension": ".py",
   "mimetype": "text/x-python",
   "name": "python",
   "nbconvert_exporter": "python",
   "pygments_lexer": "ipython3",
   "version": "3.11.0"
  }
 },
 "nbformat": 4,
 "nbformat_minor": 4
}
