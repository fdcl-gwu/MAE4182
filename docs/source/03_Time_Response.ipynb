{
 "cells": [
  {
   "cell_type": "markdown",
   "metadata": {},
   "source": [
    "# Recitation 3: Time-Respose"
   ]
  },
  {
   "cell_type": "markdown",
   "metadata": {},
   "source": [
    "## Objectives\n",
    "1. Define the transfer function of a linear time-invariant system\n",
    "2. Compute the impulse response and the step response"
   ]
  },
  {
   "cell_type": "markdown",
   "metadata": {},
   "source": [
    "## Python Control System Toolbox\n",
    "The [python-control package](https://python-control.readthedocs.io/en/0.8.3/intro.html) is a set of python classes and functions that implement common operations for the analysis and design of feedback control systems. \n",
    "Throughout the remainder of this course, we will utilize various commands from the control system toolbox.\n",
    "\n",
    "Unfortunatley, the python-control package is not installed at GW jupyterhub. Currently, GW Instructional Technology Lab is checking if it can be installed easily. Meanwhile, we have to install it at every session of jupyterhub by executing"
   ]
  },
  {
   "cell_type": "code",
   "execution_count": null,
   "metadata": {},
   "outputs": [],
   "source": [
    "pip install control"
   ]
  },
  {
   "cell_type": "markdown",
   "metadata": {},
   "source": [
    "If you don't want to execute the above command every time, you may consier installing your own Python and the python-control package at your local computer, instead of using GW jupyterhub. \n",
    "* Install Anacona https://docs.anaconda.com/anaconda/install/\n",
    "* Install control package https://python-control.readthedocs.io/en/0.8.3/intro.html\n",
    "\n",
    "From now on, it is assumed that you have access to the python-control package."
   ]
  },
  {
   "cell_type": "markdown",
   "metadata": {},
   "source": [
    "## Transfer Function\n",
    "A transfer function can be specified by the commnad [control.tf](https://python-control.readthedocs.io/en/latest/generated/control.tf.html#control.tf), which takes two inputs for the numerator and the denminator.\n",
    "For example, $G(s) = \\dfrac{4}{s^2+2.8s+4}$ is defined by"
   ]
  },
  {
   "cell_type": "code",
   "execution_count": null,
   "metadata": {},
   "outputs": [],
   "source": [
    "import control\n",
    "numG = 4\n",
    "denG = [1, 2.8, 4]\n",
    "sysG = control.tf(numG,denG)\n",
    "print(sysG)"
   ]
  },
  {
   "cell_type": "markdown",
   "metadata": {},
   "source": [
    "Note that a polynomial is specified by an array of coefficient ordered from the highest order to the lowest order."
   ]
  },
  {
   "cell_type": "markdown",
   "metadata": {},
   "source": [
    "## Impulse Response\n",
    "The impulse response of a linear system can be computed by the command [control.impulse](https://python-control.readthedocs.io/en/latest/generated/control.impulse_response.html). See the link for detailed description of the input and the ouput variables.\n",
    "\n",
    "We use a simple command with\n",
    "    `t_out, y = control.impulse_response(sys, t)`\n",
    "where\n",
    "* `sys` : transfer function \n",
    "* `t` : (optional) time vector\n",
    "* `t_out` : output time vector, same as the input `t`\n",
    "* `y` : impulse response"
   ]
  },
  {
   "cell_type": "code",
   "execution_count": null,
   "metadata": {},
   "outputs": [],
   "source": [
    "import numpy as np\n",
    "t = np.linspace(0,10,101)\n",
    "t, y = control.impulse_response(sysG, t)\n",
    "print(\"impulse response\", y)"
   ]
  },
  {
   "cell_type": "code",
   "execution_count": null,
   "metadata": {},
   "outputs": [],
   "source": [
    "import matplotlib.pyplot as plt\n",
    "plt.plot(t,y)\n",
    "plt.xlabel('t')\n",
    "plt.ylabel('y')"
   ]
  },
  {
   "cell_type": "markdown",
   "metadata": {},
   "source": [
    "## Step Response\n",
    "Similarly, the step response of a linear system can be computed by the command [control.step_response](https://python-control.readthedocs.io/en/latest/generated/control.step_response.html#control.step_response). See the link for detailed description of the input and the ouput variables.\n",
    "\n",
    "We use a simple command with\n",
    "    `t_out, y = control.step_response(sys, t)`\n",
    "where\n",
    "* `sys` : transfer function \n",
    "* `t` : (optional) time vector\n",
    "* `t_out` : output time vector, same as the input `t`\n",
    "* `y` : step response"
   ]
  },
  {
   "cell_type": "code",
   "execution_count": null,
   "metadata": {},
   "outputs": [],
   "source": [
    "t = np.linspace(0,10,101)\n",
    "t, y = control.step_response(sysG, t)\n",
    "plt.plot(t,y)"
   ]
  },
  {
   "cell_type": "markdown",
   "metadata": {},
   "source": [
    "## Task"
   ]
  },
  {
   "cell_type": "markdown",
   "metadata": {},
   "source": [
    "1. Consider the first-order system given by\n",
    "$$A(s) = \\frac{a}{s+a}$$\n",
    "Plot the step response $y(t)$ for $0\\leq t\\leq 10$ for $a=0.01, 0.1, 1, 10$. Plot all of the four responses in the same plot, and add legend to denote the value of $a$.\n",
    "\n",
    "It is strongly encouraged to use the `for` loop with $a$."
   ]
  },
  {
   "cell_type": "code",
   "execution_count": null,
   "metadata": {},
   "outputs": [],
   "source": []
  },
  {
   "cell_type": "markdown",
   "metadata": {},
   "source": [
    "2. Based on the above plot, briefly discuss the effects of $a$ on the step-response. "
   ]
  },
  {
   "cell_type": "code",
   "execution_count": null,
   "metadata": {},
   "outputs": [],
   "source": []
  }
 ],
 "metadata": {
  "kernelspec": {
   "display_name": "Python 3.10.6 64-bit",
   "language": "python"
  },
  "language_info": {
   "codemirror_mode": {
    "name": "ipython",
    "version": 3
   },
   "file_extension": ".py",
   "mimetype": "text/x-python",
   "name": "python",
   "nbconvert_exporter": "python",
   "pygments_lexer": "ipython3",
   "version": "3.10.6"
  },
  "vscode": {
   "interpreter": {
    "hash": "b0fa6594d8f4cbf19f97940f81e996739fb7646882a419484c72d19e05852a7e"
   }
  }
 },
 "nbformat": 4,
 "nbformat_minor": 4
}
